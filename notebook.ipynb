{
 "cells": [
  {
   "cell_type": "code",
   "execution_count": null,
   "metadata": {},
   "outputs": [],
   "source": [
    "import random\n",
    "from datetime import datetime\n",
    "import time\n",
    "import polars as pl\n",
    "import duckdb\n",
    "\n",
    "# replace pl.scan_parquet with read_parquet\n",
    "#df = pl.read_parquet(\"/Users/dnagaraj/Downloads/part-00075-b93ce855-6d77-4f21-b9a1-1dfcbf4f6cbc.c000.snappy.parquet\")\n",
    "df = pl.read_parquet(\"/Users/dnagaraj/Downloads/part-00001-582d586b-ea57-46f5-9aaa-661b3464de77.c000.snappy.parquet\")"
   ]
  },
  {
   "cell_type": "code",
   "execution_count": null,
   "metadata": {},
   "outputs": [],
   "source": [
    "#df.schema\n",
    "duckdb.sql('SELECT * FROM df limit 10').show()\n",
    "#duckdb.sql('SELECT count(*) FROM df limit 10').show()"
   ]
  },
  {
   "cell_type": "code",
   "execution_count": null,
   "metadata": {},
   "outputs": [],
   "source": [
    "#duckdb.sql('SELECT count(*) FROM df limit 10').show()"
   ]
  },
  {
   "cell_type": "code",
   "execution_count": null,
   "metadata": {},
   "outputs": [],
   "source": [
    "#4th"
   ]
  },
  {
   "cell_type": "code",
   "execution_count": null,
   "metadata": {},
   "outputs": [],
   "source": [
    "#5th"
   ]
  }
 ],
 "metadata": {
  "language_info": {
   "name": "python"
  },
  "orig_nbformat": 4
 },
 "nbformat": 4,
 "nbformat_minor": 2
}
